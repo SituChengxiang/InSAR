{
 "cells": [
  {
   "cell_type": "markdown",
   "id": "df41a9fc-0a89-4b61-b8d9-a6c03ab87a75",
   "metadata": {},
   "source": [
    "# Range to Target calculator"
   ]
  },
  {
   "cell_type": "markdown",
   "id": "568bcca0-1c86-4931-9363-fa7fbdc0eb74",
   "metadata": {},
   "source": [
    "Paul Siqueira\n",
    "IEEE GRSS Modeling School, Beijing 2025\n",
    "\n",
    "This jupyter notebook calculates the effect of motion errors for the focusing of targets using Synthetic Aperture Radar"
   ]
  },
  {
   "cell_type": "code",
   "execution_count": null,
   "id": "59b576e1-31c4-4343-82b1-63e26823c059",
   "metadata": {},
   "outputs": [],
   "source": [
    "import numpy as np\n",
    "import math\n",
    "import matplotlib.pyplot as plt"
   ]
  },
  {
   "cell_type": "code",
   "execution_count": null,
   "id": "ae897d00-4f35-4a00-b5ca-5e8b710f4c0f",
   "metadata": {},
   "outputs": [],
   "source": [
    "# target location\n",
    "target_loc = (10000,0,0)\n",
    "\n",
    "# aircraft start and end locations\n",
    "aircraft_start = (0,-100,10000)\n",
    "aircraft_end = (0,+100,10000)\n",
    "\n",
    "# number of points for discretization\n",
    "npoints = 200\n",
    "\n",
    "# some user-defined quantities\n",
    "meas_error = 0.01   # motion measurement error, in units of meters"
   ]
  },
  {
   "cell_type": "code",
   "execution_count": null,
   "id": "ca35bd66-02b8-4491-9064-96f0edf25f46",
   "metadata": {},
   "outputs": [
    {
     "ename": "",
     "evalue": "",
     "output_type": "error",
     "traceback": [
      "\u001b[1;31m运行具有“base (Python 3.13.5)”的单元格需要ipykernel包。\n",
      "\u001b[1;31m使用所需的包 <a href='command:jupyter.createPythonEnvAndSelectController'>创建 Python 环境</a>。\n",
      "\u001b[1;31m或使用命令“conda install -n base ipykernel --update-deps --force-reinstall”安装“ipykernel”"
     ]
    }
   ],
   "source": [
    "# create an ideal flightline\n",
    "points = np.linspace(aircraft_start, aircraft_end, num=npoints)\n",
    "x_pts = points[:, 0]\n",
    "y_pts = points[:, 1]\n",
    "z_pts = points[:, 2]"
   ]
  },
  {
   "cell_type": "code",
   "execution_count": null,
   "id": "357b6c67-fbb8-4a82-8331-6b84e8f91eed",
   "metadata": {},
   "outputs": [],
   "source": [
    "fig = plt.figure()\n",
    "ax = fig.add_subplot(111, projection='3d')\n",
    "\n",
    "# Plot the line\n",
    "ax.plot(x_pts, y_pts, z_pts, label='flightline', color='blue')\n",
    "ax.scatter(*aircraft_start, color='green', label='Start')\n",
    "ax.scatter(*aircraft_end, color='red', label='End')\n",
    "\n",
    "# subset the points to show every tenth one, to make the plotting look nicer\n",
    "nsub_pts = 10\n",
    "nskip = round(npoints/nsub_pts)\n",
    "x_pts_sub = points[::nskip, 0]\n",
    "y_pts_sub = points[::nskip, 1]\n",
    "z_pts_sub = points[::nskip, 2]\n",
    "\n",
    "ax.scatter(x_pts_sub[1::], y_pts_sub[1::], z_pts_sub[1::],\n",
    "           marker='o',\n",
    "           facecolors='none',\n",
    "           edgecolors='black',\n",
    "           s=50,   # size of the circles\n",
    "           label='Markers')\n",
    "\n",
    "# Labels and legend\n",
    "ax.set_xlabel('X (m)')\n",
    "ax.set_ylabel('Y (m)')\n",
    "ax.set_zlabel('Z (m)')\n",
    "ax.legend()\n",
    "\n",
    "plt.show()"
   ]
  },
  {
   "cell_type": "code",
   "execution_count": null,
   "id": "c5386495-8f44-4ac5-975b-e0adfe48c389",
   "metadata": {},
   "outputs": [],
   "source": [
    "# calculate the distance to the target for each point along the flightline\n",
    "\n",
    "R = np.linalg.norm(points - target_loc, axis=1)"
   ]
  },
  {
   "cell_type": "code",
   "execution_count": null,
   "id": "10c07476-e9bd-47bc-91c0-1b5ddb1e9e02",
   "metadata": {},
   "outputs": [],
   "source": [
    "# Plot the Range to Target as it changes along the flightline\n",
    "\n",
    "plt.plot(y_pts, (R/1000.0), color='blue')\n",
    "plt.xlabel('y position')\n",
    "plt.ylabel('R (km)')\n",
    "plt.title('Range to Target')\n",
    "plt.grid(True)\n",
    "plt.show()\n"
   ]
  },
  {
   "cell_type": "code",
   "execution_count": null,
   "id": "3babc571-8daa-4741-8867-d2dc94eee19a",
   "metadata": {},
   "outputs": [],
   "source": [
    "# calculate the frequency, the wavelenght, the wavenumber and convert it into a phase\n",
    "\n",
    "freq = 13.6e9\n",
    "c = 3e8\n",
    "lam = c/freq\n",
    "wavenum = 2*np.pi/lam\n",
    "phase = 2*wavenum*R\n",
    "\n",
    "# calculate the effect of phase wrapping (i.e. we can't observe absolute phase)\n",
    "phase_wrapped = phase % (2*np.pi)"
   ]
  },
  {
   "cell_type": "code",
   "execution_count": null,
   "id": "c40edb80-ab94-4a06-a20d-4d5f0feeb7b8",
   "metadata": {},
   "outputs": [],
   "source": [
    "# Plot the wrapped phase\n",
    "\n",
    "plt.plot(y_pts, phase_wrapped, '.-', color='blue')\n",
    "plt.xlabel('y position (m)')\n",
    "plt.ylabel('phase (radians)')\n",
    "plt.title('wrapped phase')\n",
    "plt.grid(True)\n",
    "plt.show()"
   ]
  },
  {
   "cell_type": "code",
   "execution_count": null,
   "id": "6c855bfa-195d-423c-bf5d-c74cce9b7962",
   "metadata": {},
   "outputs": [],
   "source": [
    "# add the effect of motion errors to the flightline\n",
    "\n",
    "gaussian_noise = np.random.normal(loc=0, scale=meas_error, size=npoints)\n",
    "x_pts_error = x_pts + gaussian_noise\n",
    "points_error = np.stack((x_pts_error, y_pts, z_pts), axis=1)\n",
    "R_error = np.linalg.norm(points_error - target_loc, axis=1)\n",
    "phase_error = 2*wavenum*R_error\n",
    "\n",
    "# calculate the effect of phase wrapping (i.e. we can't observe absolute phase)\n",
    "phase_error_wrapped = phase_error % (2*np.pi)"
   ]
  },
  {
   "cell_type": "code",
   "execution_count": null,
   "id": "885495fe-2fc9-405f-94bf-d33723421c8c",
   "metadata": {},
   "outputs": [],
   "source": [
    "plt.plot(y_pts, phase, '-', color='black')\n",
    "plt.plot(y_pts, phase_error, '.', color='blue')\n",
    "plt.xlabel('y position (m)')\n",
    "plt.ylabel('phase (radians)')\n",
    "plt.title('unwrapped phase vs. position')\n",
    "plt.grid(True)\n",
    "plt.show()"
   ]
  },
  {
   "cell_type": "code",
   "execution_count": null,
   "id": "83a342b2-7825-401e-a7f1-3fd3f9b0af45",
   "metadata": {},
   "outputs": [],
   "source": [
    "plt.plot(y_pts, phase_wrapped, '-', color='black')\n",
    "plt.plot(y_pts, phase_error_wrapped, '.', color='blue')\n",
    "plt.xlabel('y position (m)')\n",
    "plt.ylabel('phase (radians)')\n",
    "plt.title('wrapped phase vs. position')\n",
    "plt.grid(True)\n",
    "plt.show()"
   ]
  },
  {
   "cell_type": "code",
   "execution_count": null,
   "id": "ba6253b8-daac-45a5-8a96-c98ef5ee3c75",
   "metadata": {},
   "outputs": [],
   "source": [
    "# Convert to an exponential form, and correct the observed return for the estimated target path\n",
    "\n",
    "ant_gain = 1.0\n",
    "estimated_signal = ant_gain * np.exp(1.0j * phase)\n",
    "actual_signal = ant_gain * np.exp(1.0j * phase_error)\n",
    "\n",
    "perfect_signal = actual_signal\n",
    "perfect_correction = actual_signal * np.conj(perfect_signal)    # we don't actu\n",
    "imperfect_correction = actual_signal * np.conj(estimated_signal)\n",
    "magnitude_perfect = abs(sum(perfect_correction)/len(perfect_correction))\n",
    "magnitude_imperfect = abs(sum(imperfect_correction)/len(imperfect_correction))\n",
    "print(f\"Radar cross-section for {meas_error: 6.4f} m of motion error, wavelenghth = {lam: 5.3f} m\")\n",
    "print(f\"  Perfect Correction: {np.log10(magnitude_perfect):5.2f} dB\")\n",
    "print(f\"Imperfect Correction: {np.log10(magnitude_imperfect):5.2f} dB\")"
   ]
  },
  {
   "cell_type": "markdown",
   "id": "dd00d936-7d02-4fb2-9cb0-ac31ce6a713d",
   "metadata": {},
   "source": [
    "# Homework problems"
   ]
  },
  {
   "cell_type": "markdown",
   "id": "df857085-98d2-4779-9851-55f0d2fb6a96",
   "metadata": {},
   "source": [
    "1.1  Create a plot that shows the value of the imperfect correction for as the motion measurement error, in units of standard deviation, varies from 0.0 to 2.0 wavelengths, in units of 0.01 wavelengths\n",
    "\n",
    "1.2  Using a position error of 1/20th of a wavelength, include the effect of an antenna pattern magnitude in the problem.  For this part, assume a 1 meter wide antenna, and a model for the antenna pattern to be a sinc function following the model below."
   ]
  },
  {
   "cell_type": "code",
   "execution_count": null,
   "id": "b495e8c2-270f-48bb-a910-a1f9384d4b1c",
   "metadata": {},
   "outputs": [
    {
     "ename": "",
     "evalue": "",
     "output_type": "error",
     "traceback": [
      "\u001b[1;31m运行具有“base (Python 3.13.5)”的单元格需要ipykernel包。\n",
      "\u001b[1;31m使用所需的包 <a href='command:jupyter.createPythonEnvAndSelectController'>创建 Python 环境</a>。\n",
      "\u001b[1;31m或使用命令“conda install -n base ipykernel --update-deps --force-reinstall”安装“ipykernel”"
     ]
    }
   ],
   "source": [
    "ant_width = 1.0  # in units of meters\n",
    "ant_angle = np.arctan2(y_pts,R)\n",
    "ant_gain = np.sinc(ant_width/lam * ant_angle)   # the factor, ant_width/lam is an approximation for the gain pattern \n",
    "\n",
    "plt.plot(y_pts,40*np.log10(ant_gain));    # the factor of 40 accounts for both the transmit and receive antenna gains (i.e. 2*20log10())\n",
    "plt.xlabel('y position (m)')\n",
    "plt.ylabel('gain (dB)')\n",
    "plt.title('Model for round trip antenna gain')\n",
    "plt.grid(True)\n",
    "plt.show()"
   ]
  },
  {
   "cell_type": "code",
   "execution_count": null,
   "id": "6998958b-1405-433a-bdc1-31146327822b",
   "metadata": {},
   "outputs": [],
   "source": []
  }
 ],
 "metadata": {
  "kernelspec": {
   "display_name": "base",
   "language": "python",
   "name": "python3"
  },
  "language_info": {
   "codemirror_mode": {
    "name": "ipython",
    "version": 3
   },
   "file_extension": ".py",
   "mimetype": "text/x-python",
   "name": "python",
   "nbconvert_exporter": "python",
   "pygments_lexer": "ipython3",
   "version": "3.13.5"
  }
 },
 "nbformat": 4,
 "nbformat_minor": 5
}
